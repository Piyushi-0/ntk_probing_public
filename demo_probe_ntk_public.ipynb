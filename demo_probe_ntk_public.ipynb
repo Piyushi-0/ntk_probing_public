{
 "cells": [
  {
   "cell_type": "code",
   "execution_count": 1,
   "metadata": {},
   "outputs": [
    {
     "name": "stdout",
     "output_type": "stream",
     "text": [
      "Is jax using GPU? True\n"
     ]
    }
   ],
   "source": [
    "# python functions\n",
    "import sys\n",
    "sys.path.append(\"./../\")\n",
    "import os\n",
    "os.environ[\"XLA_PYTHON_CLIENT_PREALLOCATE\"] = \"false\"\n",
    "import matplotlib.pyplot as pl\n",
    "import time \n",
    "import matplotlib\n",
    "matplotlib.rcParams['text.usetex'] = True\n",
    "from matplotlib import pyplot as plt\n",
    "\n",
    "\n",
    "# jax function\n",
    "from jax import random, vmap\n",
    "from jax.api import jit, grad\n",
    "import jax.numpy as np\n",
    "from jax.nn.initializers import glorot_normal\n",
    "from jax.experimental import optimizers\n",
    "from jax.lib import xla_bridge\n",
    "from jax.nn import softmax, relu\n",
    "print('Is jax using GPU?', xla_bridge.get_backend().platform == 'gpu')\n",
    "\n",
    "\n",
    "from neural_tangents.api import batch\n",
    "from neural_tangents.api import get_ntk_fun_empirical\n",
    "from neural_tangents import predict\n",
    "from jax.lib import xla_bridge\n",
    "from neural_tangents import stax\n"
   ]
  },
  {
   "cell_type": "code",
   "execution_count": 2,
   "metadata": {},
   "outputs": [],
   "source": [
    "# some settings for plots\n",
    "plt.rc('text', usetex=True)\n",
    "plt.rc('xtick', labelsize=18)\n",
    "# plt.rc('xlabel', labelsize=18)\n",
    "plt.rc('ytick', labelsize=18)\n",
    "plt.rc('axes', labelsize=18)\n",
    "plt.rcParams.update({'font.size': 18})"
   ]
  },
  {
   "cell_type": "markdown",
   "metadata": {},
   "source": [
    "## Load dataset"
   ]
  },
  {
   "cell_type": "code",
   "execution_count": 3,
   "metadata": {},
   "outputs": [
    {
     "name": "stdout",
     "output_type": "stream",
     "text": [
      "Extracting ../myData/MNIST_data/train-images-idx3-ubyte.gz\n",
      "Extracting ../myData/MNIST_data/train-labels-idx1-ubyte.gz\n",
      "Extracting ../myData/MNIST_data/t10k-images-idx3-ubyte.gz\n",
      "Extracting ../myData/MNIST_data/t10k-labels-idx1-ubyte.gz\n"
     ]
    }
   ],
   "source": [
    "import tensorflow as tf\n",
    "old_v = tf.logging.get_verbosity()\n",
    "tf.logging.set_verbosity(tf.logging.ERROR)\n",
    "\n",
    "from tensorflow.examples.tutorials.mnist import input_data\n",
    "mnist = input_data.read_data_sets(\"../myData/MNIST_data/\", one_hot=True)\n",
    "\n",
    "dataset_size = 64\n",
    "\n",
    "# '/tungstenfs/scratch/gzenke/liutian/myData/tfds/mnist'\n",
    "train_images = mnist.train.images[:dataset_size, :]\n",
    "train_labels = mnist.train.labels[:dataset_size, :]\n",
    "\n",
    "# train = process_data(next(tfds.as_numpy(train)))\n",
    "test_images = mnist.test.images[:dataset_size, :]\n",
    "test_labels = mnist.test.labels[:dataset_size, :]"
   ]
  },
  {
   "cell_type": "markdown",
   "metadata": {},
   "source": [
    "# Measuring the distance between two empirical NTKs of different initial parameters\n"
   ]
  },
  {
   "cell_type": "markdown",
   "metadata": {},
   "source": [
    "Consider a two-hidden layer MLP $f(\\cdot, \\theta)$ of the architecture $784-l-l-10$, where 784 is the input layer width, $l$ is the hidden layer width, and 10 is the output layer width. For a fixed $l$, we will independtly sample two collections of parameters, $\\theta_1$ and $\\theta_2$. For each one of them, we evaluate its respective empirical NTK at a collection of input data $\\mathcal{X}$. In our example, $\\mathcal{X}$ is simply a set of 64 MNIST images. In this way, we get two empirical NTKs, $\\mathcal{K}_{\\theta_1}(\\mathcal{X}, \\mathcal{X})$ and $\\mathcal{K}_{\\theta_2}(\\mathcal{X}, \\mathcal{X})$. We will evaluate the $\\| \\mathcal{K}_{\\theta_1}(\\mathcal{X}, \\mathcal{X}) - \\mathcal{K}_{\\theta_2}(\\mathcal{X}, \\mathcal{X}) \\|_F^2 $, which is the sqaured Frobenius distance between these two NTK matrices. We repeat this procedure for increasingly wide hidden layer, where $l$ in ${128, 256, 512, 1024, 2048}$. \n",
    "\n",
    "We expect that the Frobenius distance decreases as the width of the hidden layer increases. This is because in the infinite width limit, the NTK should not depend on the choice of parameters anymore. However, as we will see, whether this behavoir can be observed depends on the details of weight-scaling of the MLP. In the following, we show three different setups:\n",
    "\n",
    "\n"
   ]
  },
  {
   "cell_type": "markdown",
   "metadata": {},
   "source": [
    "We implement a MLP under NTK-scaling. Concretely, a densely connected layer is defined by,\n",
    "$$x^{(l+1)} = \\phi( \\frac{\\sigma_w}{\\sqrt{N_{in}}} W^{(l+1)} x^{(l)} + \\sigma_b b^{(l)})$$\n",
    "where $W_{ij}, b_i\\sim\\mathcal N(0,1)$ at initialization and $\\sigma_w, \\sigma_b$ sets the scales of the weights and biases respectively, and $\\phi$ is the relu activation.\n"
   ]
  },
  {
   "cell_type": "code",
   "execution_count": 4,
   "metadata": {},
   "outputs": [],
   "source": [
    "widths = [2**i for i in range(7, 12)]\n"
   ]
  },
  {
   "cell_type": "code",
   "execution_count": 5,
   "metadata": {
    "scrolled": true
   },
   "outputs": [
    {
     "name": "stdout",
     "output_type": "stream",
     "text": [
      "Hidden layer width 128 | NTK diff 1723.94 \n",
      "Hidden layer width 256 | NTK diff 888.63 \n",
      "Hidden layer width 512 | NTK diff 382.66 \n",
      "Hidden layer width 1024 | NTK diff 219.39 \n",
      "Hidden layer width 2048 | NTK diff 112.53 \n"
     ]
    }
   ],
   "source": [
    "def scaled_f(params, image):\n",
    "    # per-example predictions\n",
    "    \n",
    "    W_std=1.5\n",
    "    \n",
    "    b_std=0.05\n",
    "    \n",
    "    activations = image\n",
    "        \n",
    "    for w, b in params[:-1]:\n",
    "        norm = W_std / np.sqrt(activations.shape[-1])\n",
    "\n",
    "        outputs = norm * np.dot(activations, w) + b_std * b\n",
    "        activations = relu(outputs)\n",
    "\n",
    "    final_w, final_b = params[-1]\n",
    "    \n",
    "    norm = W_std / np.sqrt(activations.shape[-1])\n",
    "    logits = norm * np.dot(activations, final_w) + b_std * final_b\n",
    "    return logits \n",
    "\n",
    "ntk_scaled_f = batch(get_ntk_fun_empirical(scaled_f), batch_size=16, device_count=0)\n",
    "\n",
    "\n",
    "\n",
    "# Initialize all layers for a fully-connected neural network with sizes \"sizes\"\n",
    "def scaled_init_network_params(sizes, key):\n",
    "    # initialize a single layer\n",
    "    def normal_random_layer_params(m, n, key):\n",
    "        w_key, b_key = random.split(key)    \n",
    "\n",
    "\n",
    "        return  random.normal(w_key, (m, n)),  random.normal(b_key, (1, n)).flatten()     \n",
    "    \n",
    "    keys = random.split(key, len(sizes))\n",
    "    return [normal_random_layer_params(m, n, k) for m, n, k in zip(sizes[:-1], sizes[1:], keys)]\n",
    "\n",
    "\n",
    "square_diffs = []    \n",
    "for hidden_layer_width in widths:\n",
    "        \n",
    "    LAYER_SIZES = [784, hidden_layer_width, hidden_layer_width, 10]\n",
    "\n",
    "    params1 = scaled_init_network_params(LAYER_SIZES, random.PRNGKey(1) )\n",
    "    params2 = scaled_init_network_params(LAYER_SIZES, random.PRNGKey(2) )\n",
    "\n",
    "    # two empirical NTKs\n",
    "    g_dd1 = ntk_scaled_f(train_images, None, params1)\n",
    "    g_dd2 = ntk_scaled_f(train_images, None, params2)\n",
    "\n",
    "    # square diff between two NTKs\n",
    "    square_diff = np.sum( (g_dd1 - g_dd2) **2 )\n",
    "    square_diffs.append(square_diff)\n",
    "    \n",
    "    print('Hidden layer width %d | NTK diff %.2f '  % (hidden_layer_width, square_diff))\n",
    "\n"
   ]
  },
  {
   "cell_type": "code",
   "execution_count": 12,
   "metadata": {},
   "outputs": [
    {
     "data": {
      "image/png": "[encoded data removed]",
      "text/plain": [
       "<Figure size 576x355.995 with 1 Axes>"
      ]
     },
     "metadata": {
      "needs_background": "light"
     },
     "output_type": "display_data"
    }
   ],
   "source": [
    "\n",
    "    \n",
    "fig, ax = plt.subplots(1)\n",
    "fig.subplots_adjust(left=.15, bottom=.16, right=.99, top=.97, hspace = 0.4)\n",
    "\n",
    "\n",
    "ax.plot(widths, square_diffs, color = 'k', linestyle='-', lw = 3.0, marker = '^', markersize = 15.0)\n",
    "\n",
    "ax.set_ylabel(r'$\\displaystyle \\| \\mathcal{K}_{\\theta_1}(\\mathcal{X}, \\mathcal{X}) - \\mathcal{K}_{\\theta_2}(\\mathcal{X}, \\mathcal{X})\\|_F^2$', fontsize=18)\n",
    "ax.set_xlabel('Width of the hidden layer', fontsize=18)\n",
    "\n",
    "ax.set_xticks(widths)\n",
    "ax.set_xticklabels(widths, rotation=45, fontsize= 18)\n",
    "ax.set_title('Squared dist. between two empirical NTKs', fontsize= 22);\n",
    "\n",
    "width = 8.0 \n",
    "height = ( width / 1.618 )\n",
    "\n",
    "fig.set_size_inches(width, height )\n"
   ]
  },
  {
   "cell_type": "markdown",
   "metadata": {},
   "source": [
    "# Check the block diagonal property of empirical NTKs\n",
    "\n",
    "Consider a MLP $f(\\cdot, \\theta)$ of the architecture $784-l-l-2$, where 784 is the input layer width, $l$ is the hidden layer width, and 2 is the output layer width. For a fixed $l$, we will sample parameters $\\theta$ and evaluate its empirical NTK  at a collection of input data $\\mathcal{X}$, denoted by $\\mathcal{K}_{\\theta}(\\mathcal{X}, \\mathcal{X})$. In this example, $\\mathcal{X}$ is simply a set of 16 MNIST images. For this reason, the $\\mathcal{K}_{\\theta}(\\mathcal{X}, \\mathcal{X})$ is of the shape $(16, 16, 2, 2)$, where $16$ is the number of samples and $2$ is the output dimension. \n",
    "\n",
    "When the width of the MLP goes to infinity, the empirical NTK matrix $\\mathcal{K}_{\\theta}(\\mathcal{X}, \\mathcal{X})$ is close to a block diagonal tensor. In our example here, this means $\\mathcal{K}_{\\theta}(\\mathcal{X}, \\mathcal{X}) [:, :, 1, 0] \\approx \\mathcal{K}_{\\theta}(\\mathcal{X}, \\mathcal{X}) [:, :, 0, 1] = \\mathbf{0}$ and $\\mathcal{K}_{\\theta}(\\mathcal{X}, \\mathcal{X}) [:, :, 0, 0] \\approx \\mathcal{K}_{\\theta}(\\mathcal{X}, \\mathcal{X}) [:, :, 1, 1]$. In our experiment, we empirically check whether this is true. To this end, we calculate the \"block diagonal distance\"\n",
    "\n",
    "\"block diagonal distance\" := $\\| \\mathcal{K}_{\\theta}(\\mathcal{X}, \\mathcal{X}) [:, :, 1, 1] - \\mathcal{K}_{\\theta_2}(\\mathcal{X}, \\mathcal{X}) [:, :, 0, 0] \\|_F^2 +  \\|\\mathcal{K}_{\\theta} (\\mathcal{X}, \\mathcal{X})[:, :, 1, 0] \\|_F^2 +  \\|\\mathcal{K}_{\\theta}(\\mathcal{X}) [:, :, 0, 1] \\|_F^2$. \n",
    "\n",
    "We this value should be smaller and smaller as the width of MLP becomes larger and larger. To eliminate the influence of the choice of parameter $\\theta$, we repeat the above procedure for tens of times and do an average for each width. "
   ]
  },
  {
   "cell_type": "code",
   "execution_count": 7,
   "metadata": {},
   "outputs": [
    {
     "name": "stdout",
     "output_type": "stream",
     "text": [
      "Hidden layer width 128 | av. NTK diff 36.02 \n",
      "Hidden layer width 256 | av. NTK diff 25.59 \n",
      "Hidden layer width 512 | av. NTK diff 19.21 \n",
      "Hidden layer width 1024 | av. NTK diff 15.78 \n",
      "Hidden layer width 2048 | av. NTK diff 13.02 \n"
     ]
    }
   ],
   "source": [
    "NUM_RANDOM_SEEDS = 20\n",
    "\n",
    "def scaled_f(params, image):\n",
    "    # per-example predictions\n",
    "    \n",
    "    W_std=1.5\n",
    "    \n",
    "    b_std=0.05\n",
    "    \n",
    "    activations = image\n",
    "        \n",
    "    for w, b in params[:-1]:\n",
    "        norm = W_std / np.sqrt(activations.shape[-1])\n",
    "\n",
    "        outputs = norm * np.dot(activations, w) + b_std * b\n",
    "        activations = relu(outputs)\n",
    "\n",
    "    final_w, final_b = params[-1]\n",
    "    \n",
    "    norm = W_std / np.sqrt(activations.shape[-1])\n",
    "    logits = norm * np.dot(activations, final_w) + b_std * final_b\n",
    "    return logits \n",
    "\n",
    "def scaled_init_network_params(sizes, key):\n",
    "    # initialize a single layer\n",
    "    def normal_random_layer_params(m, n, key):\n",
    "        w_key, b_key = random.split(key)    \n",
    "\n",
    "        return  random.normal(w_key, (m, n)),  random.normal(b_key, (1, n)).flatten()     \n",
    "    \n",
    "    keys = random.split(key, len(sizes))\n",
    "    return [normal_random_layer_params(m, n, k) for m, n, k in zip(sizes[:-1], sizes[1:], keys)]\n",
    "\n",
    "\n",
    "\n",
    "# Make a batched version of the `predict` function\n",
    "\n",
    "ntk_scaled_f = batch(get_ntk_fun_empirical(scaled_f), batch_size=16, device_count=0)\n",
    "\n",
    "square_diffs_all_random_seeds_all_widths = []\n",
    "\n",
    "for hidden_layer_width in widths:\n",
    "        \n",
    "    LAYER_SIZES = [784, hidden_layer_width, hidden_layer_width, 2]\n",
    "\n",
    "    \n",
    "    square_diff_all_random_seeds = []\n",
    "    for random_seed in range(NUM_RANDOM_SEEDS):\n",
    "#         _, params = init_fun(random.PRNGKey(random_seed), (-1, 28 * 28))\n",
    "        params = scaled_init_network_params(LAYER_SIZES, random.PRNGKey(random_seed) )\n",
    "\n",
    "        g_dd = ntk_scaled_f(train_images, None, params)\n",
    "\n",
    "        square_diff = np.sum( (g_dd[..., 1, 1] - g_dd[..., 0, 0]) **2 ) + np.sum( (g_dd[..., 1, 0]) **2 ) + np.sum( (g_dd[..., 0, 1]) **2 )\n",
    "        \n",
    "        square_diff_all_random_seeds.append(square_diff)\n",
    "        \n",
    "    square_diffs_all_random_seeds_all_widths.append(square_diff_all_random_seeds)\n",
    "    \n",
    "    print('Hidden layer width %d | av. NTK diff %.2f '  % (hidden_layer_width, np.array(square_diffs_all_random_seeds_all_widths).mean()))\n",
    "\n",
    "square_diffs_all_widths_av_random_seeds = np.mean(np.array(square_diffs_all_random_seeds_all_widths), axis = 1)\n"
   ]
  },
  {
   "cell_type": "code",
   "execution_count": 13,
   "metadata": {},
   "outputs": [
    {
     "data": {
      "image/png": "[encoded data removed]",
      "text/plain": [
       "<Figure size 576x355.995 with 1 Axes>"
      ]
     },
     "metadata": {
      "needs_background": "light"
     },
     "output_type": "display_data"
    }
   ],
   "source": [
    "\n",
    "fig, ax = plt.subplots(1)\n",
    "fig.subplots_adjust(left=.15, bottom=.16, right=.99, top=.97, hspace = 0.4)\n",
    "\n",
    "\n",
    "ax.plot(widths, square_diffs_all_widths_av_random_seeds, color = 'k', linestyle='-', lw = 3.0, marker = '^', markersize = 15.0)\n",
    "\n",
    "ax.set_ylabel('Block diagonal distance', fontsize=18)\n",
    "ax.set_xlabel('Width of the hidden layer', fontsize=18)\n",
    "\n",
    "ax.set_xticks(widths)\n",
    "ax.set_xticklabels(widths, rotation=45, fontsize= 18)\n",
    "\n",
    "ax.set_title('Block diagonal distances of empirical NTKs', fontsize=22);\n",
    "\n",
    "fig.set_size_inches(width, height )\n"
   ]
  },
  {
   "cell_type": "markdown",
   "metadata": {},
   "source": [
    "# Distances between empirical NTKs and analytic NTKs\n",
    "\n",
    "We evaluate the distance of empirical NTK and analytic NTK. To do so, we put the empirical NTK matrices into the same shape of the analytic NTKs by compute an average across diagonal blocks."
   ]
  },
  {
   "cell_type": "code",
   "execution_count": 9,
   "metadata": {},
   "outputs": [
    {
     "name": "stdout",
     "output_type": "stream",
     "text": [
      "Hidden layer width 128 | NTK diff 60.43 \n",
      "Hidden layer width 256 | NTK diff 10.79 \n",
      "Hidden layer width 512 | NTK diff 5.29 \n",
      "Hidden layer width 1024 | NTK diff 4.51 \n",
      "Hidden layer width 2048 | NTK diff 1.42 \n"
     ]
    }
   ],
   "source": [
    "square_diffs_empirical_analytic = []\n",
    "for hidden_layer_width in widths:\n",
    "# widths = 512    \n",
    "    init_fun, f, ker_fun = stax.serial(\n",
    "        stax.Dense(hidden_layer_width, W_std=1.5, b_std=0.05), stax.Relu(),\n",
    "        stax.Dense(hidden_layer_width, W_std=1.5, b_std=0.05), stax.Relu(),\n",
    "        stax.Dense(2, W_std=1.5, b_std=0.05) )\n",
    "\n",
    "    ntk_empirical = batch(get_ntk_fun_empirical(f), batch_size=16, device_count=0)\n",
    "\n",
    "    _, params = init_fun(random.PRNGKey(1), (-1, 28 * 28))\n",
    "\n",
    "    # the empirical NTK\n",
    "    empirical_ntk_evaluated_multiple_outputs = ntk_empirical(train_images, None, params)\n",
    "\n",
    "    empirical_ntk_evaluated_compressed =  np.trace(empirical_ntk_evaluated_multiple_outputs, axis1=-2, axis2=-1) /empirical_ntk_evaluated_multiple_outputs.shape[-1]\n",
    "\n",
    "    # the analytic NTK\n",
    "    analytic_ntk_evaluated = ker_fun(train_images, train_images).ntk\n",
    "\n",
    "\n",
    "    # the squared difference between (compressed) empirical NTK and analytic NTK\n",
    "    square_diff = np.sum( (analytic_ntk_evaluated - empirical_ntk_evaluated_compressed )**2 ) \n",
    "\n",
    "    square_diffs_empirical_analytic.append(square_diff)\n",
    "\n",
    "    print('Hidden layer width %d | NTK diff %.2f '  % (hidden_layer_width, square_diff))\n"
   ]
  },
  {
   "cell_type": "code",
   "execution_count": 14,
   "metadata": {},
   "outputs": [
    {
     "data": {
      "image/png": "[encoded data removed]",
      "text/plain": [
       "<Figure size 576x355.995 with 1 Axes>"
      ]
     },
     "metadata": {
      "needs_background": "light"
     },
     "output_type": "display_data"
    }
   ],
   "source": [
    "fig, ax = plt.subplots(1)\n",
    "fig.subplots_adjust(left=.15, bottom=.16, right=.99, top=.97, hspace = 0.4)\n",
    "\n",
    "\n",
    "ax.plot(widths, square_diffs_empirical_analytic, color = 'k', linestyle='-', lw = 3.0, marker = '^', markersize = 15.0)\n",
    "\n",
    "ax.set_ylabel(r'$\\displaystyle \\| \\mathcal{K}_{\\mathrm{emp}}(\\mathcal{X}, \\mathcal{X}) - \\mathcal{K}_{\\mathrm{analytic}}(\\mathcal{X}, \\mathcal{X})\\|_F^2$', fontsize=18)\n",
    "ax.set_xlabel('Width of the hidden layer', fontsize=18)\n",
    "\n",
    "ax.set_xticks(widths)\n",
    "ax.set_xticklabels(widths, rotation=45, fontsize= 18)\n",
    "\n",
    "ax.set_title('Squared dist. between analytic and empirical NTKs', fontsize=22);\n",
    "fig.set_size_inches(width, height )\n"
   ]
  },
  {
   "cell_type": "code",
   "execution_count": null,
   "metadata": {},
   "outputs": [],
   "source": []
  },
  {
   "cell_type": "code",
   "execution_count": null,
   "metadata": {},
   "outputs": [],
   "source": []
  }
 ],
 "metadata": {
  "accelerator": "GPU",
  "colab": {
   "collapsed_sections": [],
   "last_runtime": {
    "build_target": "//learning/deepmind/dm_python:dm_notebook3",
    "kind": "private"
   },
   "name": "Function Space Linearization.ipynb",
   "provenance": [],
   "version": "0.3.2"
  },
  "kernelspec": {
   "display_name": "Python 3",
   "language": "python",
   "name": "python3"
  },
  "language_info": {
   "codemirror_mode": {
    "name": "ipython",
    "version": 3
   },
   "file_extension": ".py",
   "mimetype": "text/x-python",
   "name": "python",
   "nbconvert_exporter": "python",
   "pygments_lexer": "ipython3",
   "version": "3.7.3"
  },
  "pycharm": {
   "stem_cell": {
    "cell_type": "raw",
    "metadata": {
     "collapsed": false
    },
    "source": []
   }
  }
 },
 "nbformat": 4,
 "nbformat_minor": 1
}
